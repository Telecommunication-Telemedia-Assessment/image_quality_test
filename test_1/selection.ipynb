{
 "cells": [
  {
   "cell_type": "code",
   "execution_count": 20,
   "metadata": {},
   "outputs": [],
   "source": [
    "# ipython\n",
    "%matplotlib inline\n",
    "\n",
    "from IPython.display import display as d\n",
    "import pandas as pd\n",
    "import numpy as np\n",
    "import seaborn as sns\n",
    "sns.set(rc={'figure.figsize':(12,12)})\n",
    "import glob\n",
    "import json\n",
    "import os\n",
    "import sys\n",
    "import random \n",
    "\n",
    "\n",
    "def read_report(x):\n",
    "    df = pd.read_csv(x)\n",
    "    df[\"filename\"] = df[\"filename\"].apply(lambda y: os.path.dirname(x) + \"/\" + y)\n",
    "    return df\n",
    "\n",
    "r = list(map(read_report, list(glob.glob(\"*/*.csv\"))))#\n",
    "\n",
    "df = pd.DataFrame()\n",
    "selection = []\n",
    "for x in r:\n",
    "    x[\"mos\"] = (1 + 4 * x[\"score\"] / 100).round()\n",
    "    #d(x.head())\n",
    "    for i, m in x.groupby(by=\"mos\"):\n",
    "        v = list(m[\"filename\"].values)\n",
    "        res = random.sample(v, min(2, len(v)))\n",
    "        selection.extend(res)\n",
    "    \n",
    "with open(\"selection.list\", \"w\") as sfp:\n",
    "    sfp.write(\"\\n\".join(selection))"
   ]
  }
 ],
 "metadata": {
  "kernelspec": {
   "display_name": "Python 3",
   "language": "python",
   "name": "python3"
  },
  "language_info": {
   "codemirror_mode": {
    "name": "ipython",
    "version": 3
   },
   "file_extension": ".py",
   "mimetype": "text/x-python",
   "name": "python",
   "nbconvert_exporter": "python",
   "pygments_lexer": "ipython3",
   "version": "3.6.7"
  }
 },
 "nbformat": 4,
 "nbformat_minor": 2
}
